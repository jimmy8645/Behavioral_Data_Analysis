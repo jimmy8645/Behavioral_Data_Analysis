{
 "cells": [
  {
   "cell_type": "code",
   "execution_count": 1,
   "metadata": {},
   "outputs": [],
   "source": [
    "import pandas as pd\n",
    "import numpy as np\n",
    "import matplotlib.pyplot as plt\n",
    "import seaborn as sns\n",
    "\n",
    "from statsmodels.formula.api import ols\n",
    "import statsmodels.api as sm\n",
    "import statsmodels.formula.api as smf\n",
    "\n",
    "from math import sqrt # For Cramer V calculation\n",
    "from scipy.stats import chi2_contingency # For Cramer V calculation"
   ]
  },
  {
   "attachments": {},
   "cell_type": "markdown",
   "metadata": {},
   "source": [
    "## 1. Import data"
   ]
  },
  {
   "cell_type": "code",
   "execution_count": 2,
   "metadata": {},
   "outputs": [
    {
     "data": {
      "text/html": [
       "<div>\n",
       "<style scoped>\n",
       "    .dataframe tbody tr th:only-of-type {\n",
       "        vertical-align: middle;\n",
       "    }\n",
       "\n",
       "    .dataframe tbody tr th {\n",
       "        vertical-align: top;\n",
       "    }\n",
       "\n",
       "    .dataframe thead th {\n",
       "        text-align: right;\n",
       "    }\n",
       "</style>\n",
       "<table border=\"1\" class=\"dataframe\">\n",
       "  <thead>\n",
       "    <tr style=\"text-align: right;\">\n",
       "      <th></th>\n",
       "      <th>NRDeposit</th>\n",
       "      <th>IsCanceled</th>\n",
       "      <th>DistributionChannel</th>\n",
       "      <th>MarketSegment</th>\n",
       "      <th>CustomerType</th>\n",
       "      <th>Children</th>\n",
       "      <th>ADR</th>\n",
       "      <th>PreviousCancellations</th>\n",
       "      <th>IsRepeatedGuest</th>\n",
       "      <th>Country</th>\n",
       "      <th>Quarter</th>\n",
       "      <th>Year</th>\n",
       "    </tr>\n",
       "  </thead>\n",
       "  <tbody>\n",
       "    <tr>\n",
       "      <th>0</th>\n",
       "      <td>0</td>\n",
       "      <td>0</td>\n",
       "      <td>Direct</td>\n",
       "      <td>Direct</td>\n",
       "      <td>Transient</td>\n",
       "      <td>0</td>\n",
       "      <td>0.0</td>\n",
       "      <td>0</td>\n",
       "      <td>0</td>\n",
       "      <td>PRT</td>\n",
       "      <td>Q3</td>\n",
       "      <td>2015</td>\n",
       "    </tr>\n",
       "    <tr>\n",
       "      <th>1</th>\n",
       "      <td>0</td>\n",
       "      <td>0</td>\n",
       "      <td>Direct</td>\n",
       "      <td>Direct</td>\n",
       "      <td>Transient</td>\n",
       "      <td>0</td>\n",
       "      <td>0.0</td>\n",
       "      <td>0</td>\n",
       "      <td>0</td>\n",
       "      <td>PRT</td>\n",
       "      <td>Q3</td>\n",
       "      <td>2015</td>\n",
       "    </tr>\n",
       "    <tr>\n",
       "      <th>2</th>\n",
       "      <td>0</td>\n",
       "      <td>0</td>\n",
       "      <td>Direct</td>\n",
       "      <td>Direct</td>\n",
       "      <td>Transient</td>\n",
       "      <td>0</td>\n",
       "      <td>75.0</td>\n",
       "      <td>0</td>\n",
       "      <td>0</td>\n",
       "      <td>GBR</td>\n",
       "      <td>Q3</td>\n",
       "      <td>2015</td>\n",
       "    </tr>\n",
       "    <tr>\n",
       "      <th>3</th>\n",
       "      <td>0</td>\n",
       "      <td>0</td>\n",
       "      <td>Corporate</td>\n",
       "      <td>Corporate</td>\n",
       "      <td>Transient</td>\n",
       "      <td>0</td>\n",
       "      <td>75.0</td>\n",
       "      <td>0</td>\n",
       "      <td>0</td>\n",
       "      <td>GBR</td>\n",
       "      <td>Q3</td>\n",
       "      <td>2015</td>\n",
       "    </tr>\n",
       "    <tr>\n",
       "      <th>4</th>\n",
       "      <td>0</td>\n",
       "      <td>0</td>\n",
       "      <td>TA/TO</td>\n",
       "      <td>Online TA</td>\n",
       "      <td>Transient</td>\n",
       "      <td>0</td>\n",
       "      <td>98.0</td>\n",
       "      <td>0</td>\n",
       "      <td>0</td>\n",
       "      <td>GBR</td>\n",
       "      <td>Q3</td>\n",
       "      <td>2015</td>\n",
       "    </tr>\n",
       "  </tbody>\n",
       "</table>\n",
       "</div>"
      ],
      "text/plain": [
       "   NRDeposit  IsCanceled DistributionChannel MarketSegment CustomerType  \\\n",
       "0          0           0              Direct        Direct    Transient   \n",
       "1          0           0              Direct        Direct    Transient   \n",
       "2          0           0              Direct        Direct    Transient   \n",
       "3          0           0           Corporate     Corporate    Transient   \n",
       "4          0           0               TA/TO     Online TA    Transient   \n",
       "\n",
       "   Children   ADR  PreviousCancellations  IsRepeatedGuest Country Quarter  \\\n",
       "0         0   0.0                      0                0     PRT      Q3   \n",
       "1         0   0.0                      0                0     PRT      Q3   \n",
       "2         0  75.0                      0                0     GBR      Q3   \n",
       "3         0  75.0                      0                0     GBR      Q3   \n",
       "4         0  98.0                      0                0     GBR      Q3   \n",
       "\n",
       "   Year  \n",
       "0  2015  \n",
       "1  2015  \n",
       "2  2015  \n",
       "3  2015  \n",
       "4  2015  "
      ]
     },
     "execution_count": 2,
     "metadata": {},
     "output_type": "execute_result"
    }
   ],
   "source": [
    "df = pd.read_csv('hotel_booking_case_study.csv')\n",
    "df.head()"
   ]
  },
  {
   "attachments": {},
   "cell_type": "markdown",
   "metadata": {},
   "source": [
    "## 2. Understanding the Relationship of Interest"
   ]
  },
  {
   "attachments": {},
   "cell_type": "markdown",
   "metadata": {},
   "source": [
    "“Does the type of deposit impact the cancellation rate of bookings?”"
   ]
  },
  {
   "cell_type": "code",
   "execution_count": 3,
   "metadata": {},
   "outputs": [
    {
     "name": "stdout",
     "output_type": "stream",
     "text": [
      "                        cnt\n",
      "NRDeposit IsCanceled       \n",
      "0         0           63316\n",
      "          1           23042\n",
      "1         0              55\n",
      "          1             982\n"
     ]
    }
   ],
   "source": [
    "# Cancellation rate by deposit types\n",
    "table_cnt = df.groupby(['NRDeposit','IsCanceled']).agg(cnt = ('Country', lambda x: len(x)))\n",
    "\n",
    "print(table_cnt)"
   ]
  },
  {
   "cell_type": "code",
   "execution_count": 5,
   "metadata": {},
   "outputs": [
    {
     "name": "stdout",
     "output_type": "stream",
     "text": [
      "                           cnt\n",
      "NRDeposit IsCanceled          \n",
      "0         0           0.733180\n",
      "          1           0.266820\n",
      "1         0           0.053038\n",
      "          1           0.946962\n"
     ]
    }
   ],
   "source": [
    "table_pct = table_cnt.groupby(level=0).apply(lambda x:x/float(x.sum()))\n",
    "\n",
    "print(table_pct)"
   ]
  },
  {
   "attachments": {},
   "cell_type": "markdown",
   "metadata": {},
   "source": [
    "Here, we can observe that overwhelming majority of bookings have no deposit, with a cancellation rate of about 27%. On the other hand, bookings with nonrefundable deposits (NRDeposit) have a very high cancellation rate.\n",
    "\n",
    "Behavioral common sense tells us that more likely, the hotels are requesting nonrefundable deposits for “high risk” bookings and there is a confounder.\n",
    "\n",
    "“A nonrefundable deposit seems to increase cancellation rate, but that relationship is probably confounded by factors we’ll need to determine.”\n",
    "\n",
    "the best next step would be a randomized experiment: assign refundable or nonrefundable deposits to a random sample of customers and you’ll be able to confirm or disprove your behavioral hypothesis. However, you may not be able to do so, or not yet. In the meantime, we’ll try to deconfound the relationship by identifying relevant variables to include."
   ]
  },
  {
   "attachments": {},
   "cell_type": "markdown",
   "metadata": {},
   "source": [
    "## 3. Validate observable variables to include based on data"
   ]
  },
  {
   "cell_type": "code",
   "execution_count": 7,
   "metadata": {},
   "outputs": [
    {
     "name": "stdout",
     "output_type": "stream",
     "text": [
      "0.16483946381640308\n"
     ]
    }
   ],
   "source": [
    "### Applying Cramer's V\n",
    "#Formula from https://en.wikipedia.org/wiki/Cram%C3%A9r's_V\n",
    "\n",
    "def CramerV(var1, var2):\n",
    "    pivot_tb = pd.crosstab(var1, var2, margins= False)\n",
    "    chi_sq, _, _, _ = chi2_contingency(pivot_tb)\n",
    "    n = len(var1)\n",
    "    k = len(var1.unique())\n",
    "    r = len(var2.unique())\n",
    "    V = sqrt((chi_sq/n)/(min(k-1, r-1)))\n",
    "    return V\n",
    "\n",
    "V= CramerV(df['NRDeposit'], df['IsCanceled'])\n",
    "print(V)"
   ]
  },
  {
   "attachments": {},
   "cell_type": "markdown",
   "metadata": {},
   "source": [
    "## 4. Relations between numeric variables"
   ]
  },
  {
   "cell_type": "code",
   "execution_count": 10,
   "metadata": {},
   "outputs": [
    {
     "name": "stdout",
     "output_type": "stream",
     "text": [
      "Index(['NRDep', 'IsCanc', 'DistCh', 'MktSgmt', 'CustTyp', 'Children', 'ADR',\n",
      "       'PrevCan', 'RepGst', 'Country', 'Quarter', 'Year'],\n",
      "      dtype='object')\n"
     ]
    }
   ],
   "source": [
    "#Shortening column names\n",
    "df.rename(columns=\n",
    "              {\"CustomerType\": \"CustTyp\",\n",
    "               \"DistributionChannel\": \"DistCh\",\n",
    "               \"IsRepeatedGuest\": \"RepGst\",\n",
    "               \"MarketSegment\": \"MktSgmt\",\n",
    "               \"IsCanceled\": \"IsCanc\",\n",
    "               \"PreviousCancellations\": \"PrevCan\",\n",
    "               \"NRDeposit\": \"NRDep\"},\n",
    "              inplace=True)\n",
    "print(df.columns)"
   ]
  },
  {
   "cell_type": "code",
   "execution_count": 11,
   "metadata": {},
   "outputs": [
    {
     "data": {
      "text/plain": [
       "Index(['NRDep', 'IsCanc', 'Children', 'ADR', 'PrevCan', 'RepGst', 'Year'], dtype='object')"
      ]
     },
     "execution_count": 11,
     "metadata": {},
     "output_type": "execute_result"
    }
   ],
   "source": [
    "#Creating a dataframe with the numerical and binary variables only\n",
    "num_df = df.copy().select_dtypes(include=['int64', 'float64'])\n",
    "num_df.columns"
   ]
  },
  {
   "cell_type": "code",
   "execution_count": 13,
   "metadata": {},
   "outputs": [
    {
     "name": "stdout",
     "output_type": "stream",
     "text": [
      "             NRDep    IsCanc  Children       ADR   PrevCan    RepGst      Year\n",
      "NRDep     1.000000  0.164958 -0.032703 -0.040040  0.149858 -0.016099 -0.019110\n",
      "IsCanc    0.164958  1.000000  0.060165  0.133467  0.126891 -0.089640  0.088037\n",
      "Children -0.032703  0.060165  1.000000  0.339825 -0.028195 -0.047242  0.034155\n",
      "ADR      -0.040040  0.133467  0.339825  1.000000 -0.073385 -0.161620  0.186587\n",
      "PrevCan   0.149858  0.126891 -0.028195 -0.073385  1.000000  0.246987 -0.119020\n",
      "RepGst   -0.016099 -0.089640 -0.047242 -0.161620  0.246987  1.000000  0.024342\n",
      "Year     -0.019110  0.088037  0.034155  0.186587 -0.119020  0.024342  1.000000\n"
     ]
    },
    {
     "name": "stderr",
     "output_type": "stream",
     "text": [
      "<ipython-input-13-f0fc209ed502>:7: DeprecationWarning: `np.bool` is a deprecated alias for the builtin `bool`. To silence this warning, use `bool` by itself. Doing this will not modify any behavior and is safe. If you specifically wanted the numpy scalar type, use `np.bool_` here.\n",
      "Deprecated in NumPy 1.20; for more details and guidance: https://numpy.org/devdocs/release/1.20.0-notes.html#deprecations\n",
      "  mask=np.zeros_like(num_corr, dtype=np.bool),\n"
     ]
    },
    {
     "data": {
      "text/plain": [
       "<AxesSubplot:>"
      ]
     },
     "execution_count": 13,
     "metadata": {},
     "output_type": "execute_result"
    },
    {
     "data": {
      "image/png": "[encoded data removed]",
      "text/plain": [
       "<Figure size 720x576 with 2 Axes>"
      ]
     },
     "metadata": {
      "needs_background": "light"
     },
     "output_type": "display_data"
    }
   ],
   "source": [
    "#Creating the correlation matrix for numerical and binary variables only\n",
    "num_corr = num_df.corr()\n",
    "print(num_corr)\n",
    "\n",
    "fig, ax = plt.subplots(figsize = (10, 8))\n",
    "sns.heatmap(num_corr, \n",
    "            mask=np.zeros_like(num_corr, dtype=np.bool), \n",
    "            cmap=sns.diverging_palette(220,10, as_cmap=True),\n",
    "            square=True,\n",
    "            ax=ax)"
   ]
  },
  {
   "attachments": {},
   "cell_type": "markdown",
   "metadata": {},
   "source": [
    "The first column indicates the correlations with '*NRDeposit*' and the second column the correlations with '*IsCanceled*'. '_PreviousCancellation_' has correlation coefficients with our variables of interest that are of the same order of magnitude (0.15 and 0.13, respectively). Similarly, '_ADR_' has a correlation coefficient with '_IsCanceled_' that is significant by that criterion (0.13)."
   ]
  },
  {
   "attachments": {},
   "cell_type": "markdown",
   "metadata": {},
   "source": [
    "## 5. Relationships between categorical variables"
   ]
  },
  {
   "cell_type": "code",
   "execution_count": 14,
   "metadata": {},
   "outputs": [
    {
     "data": {
      "text/plain": [
       "NRDep       category\n",
       "IsCanc      category\n",
       "DistCh      category\n",
       "MktSgmt     category\n",
       "CustTyp     category\n",
       "Children       int64\n",
       "ADR          float64\n",
       "PrevCan     category\n",
       "RepGst      category\n",
       "Country     category\n",
       "Quarter     category\n",
       "Year           int64\n",
       "dtype: object"
      ]
     },
     "execution_count": 14,
     "metadata": {},
     "output_type": "execute_result"
    }
   ],
   "source": [
    "#Convert variables to categorical \n",
    "num_list = ['NRDep','IsCanc','DistCh','MktSgmt','CustTyp','PrevCan','RepGst','Country','Quarter']\n",
    "\n",
    "for i in num_list:\n",
    "    df[i] = pd.Categorical(df[i])\n",
    "\n",
    "df.dtypes"
   ]
  },
  {
   "cell_type": "code",
   "execution_count": 21,
   "metadata": {},
   "outputs": [
    {
     "name": "stdout",
     "output_type": "stream",
     "text": [
      "VarJ      Country   CustTyp    DistCh    IsCanc   MktSgmt     NRDep   PrevCan  \\\n",
      "VarI                                                                            \n",
      "Country  0.994589  0.121525  0.174364  0.194173  0.181668  0.149602  0.191032   \n",
      "CustTyp  0.121525  1.000000  0.088851  0.127065  0.326992  0.010640  0.066364   \n",
      "DistCh   0.174364  0.088851  1.000000  0.152114  0.734199  0.032245  0.143917   \n",
      "IsCanc   0.194173  0.127065  0.152114  0.999971  0.220722  0.164839  0.126797   \n",
      "MktSgmt  0.181668  0.326992  0.734199  0.220722  1.000000  0.283656  0.168677   \n",
      "NRDep    0.149602  0.010640  0.032245  0.164839  0.283656  0.999512  0.149473   \n",
      "PrevCan  0.191032  0.066364  0.143917  0.126797  0.168677  0.149473  0.999697   \n",
      "Quarter  0.110352  0.061455  0.069202  0.071384  0.072494  0.031931  0.060018   \n",
      "RepGst   0.231452  0.108399  0.353780  0.089574  0.395924  0.015826  0.246773   \n",
      "\n",
      "VarJ      Quarter    RepGst  \n",
      "VarI                         \n",
      "Country  0.110352  0.231452  \n",
      "CustTyp  0.061455  0.108399  \n",
      "DistCh   0.069202  0.353780  \n",
      "IsCanc   0.071384  0.089574  \n",
      "MktSgmt  0.072494  0.395924  \n",
      "NRDep    0.031931  0.015826  \n",
      "PrevCan  0.060018  0.246773  \n",
      "Quarter  1.000000  0.086794  \n",
      "RepGst   0.086794  0.999848  \n"
     ]
    },
    {
     "data": {
      "text/plain": [
       "<AxesSubplot:xlabel='VarJ', ylabel='VarI'>"
      ]
     },
     "execution_count": 21,
     "metadata": {},
     "output_type": "execute_result"
    },
    {
     "data": {
      "image/png": "[encoded data removed]",
      "text/plain": [
       "<Figure size 720x576 with 2 Axes>"
      ]
     },
     "metadata": {
      "needs_background": "light"
     },
     "output_type": "display_data"
    }
   ],
   "source": [
    "# Calculating correlation matrix for the categorical and binary variables only\n",
    "def cat_corr_fun(df):\n",
    "\n",
    "    #Initialize output dataframe\n",
    "    cat_corr_df = pd.DataFrame(columns=['VarI','VarJ','corr'])\n",
    "\n",
    "    #Subset to categorical variables only\n",
    "    cat_df = df.select_dtypes(exclude=['int64', 'float64'])\n",
    "\n",
    "\n",
    "    for VarI in cat_df.columns:\n",
    "        for VarJ in cat_df.columns:\n",
    "            corr = CramerV(cat_df[VarI], cat_df[VarJ])\n",
    "            row = pd.Series(data = {'VarI':VarI, 'VarJ':VarJ, 'corr':corr})\n",
    "            cat_corr_df = cat_corr_df.append(row, ignore_index = True)\n",
    "    return(cat_corr_df)\n",
    "cat_corr_df = cat_corr_fun(df)\n",
    "cat_corr = pd.pivot_table(cat_corr_df, index= ['VarI'],columns=['VarJ'], values=['corr'], fill_value=1)\n",
    "\n",
    "cat_corr.columns = cat_corr.columns.droplevel(0)\n",
    "print(cat_corr)\n",
    "\n",
    "fig, ax = plt.subplots(figsize=(10,8))\n",
    "sns.heatmap(cat_corr,cmap=sns.diverging_palette(220,10, as_cmap=True), square=True, ax=ax)"
   ]
  },
  {
   "attachments": {},
   "cell_type": "markdown",
   "metadata": {},
   "source": [
    "This correlation yields a variety of insights. Looking at the bottom row, we can see that '_Quarter_' is not meaningfully correlated with anything else. This suggests that sea‐ sonality is not a relevant factor for our analysis. Conversely, it is possible that a quarter is too coarse a unit of time and that we need to zoom in on very specific time periods such as the Christmas holidays. We can drop '_Quarter_' from our CD and replace it with an unobserved variable Seasonality as a cue for future research.\n",
    "\n",
    "Our three variables for customer segments, '_CustomerType_', '_MarketSegment_', and '_DistributionChannel_', show a mixed pattern, with some very strong and some weak corre‐ lations between them. Similarly, their correlations with other variables are all over the place: all three of them have correlations with Country in the 0.1X digits for example, but two of them have high correlations with '_RepeatedGuest_' (0.35 and 0.4) whereas the third one has a correlation of only 0.11. This suggests that these variables are not just interchangeable, but that they are capturing some aspects of the same behaviors. This calls for further investigation and most likely creating new variables."
   ]
  },
  {
   "attachments": {},
   "cell_type": "markdown",
   "metadata": {},
   "source": [
    "### 6. Correlations between numeric and categorical variables"
   ]
  },
  {
   "cell_type": "code",
   "execution_count": null,
   "metadata": {},
   "outputs": [],
   "source": []
  }
 ],
 "metadata": {
  "kernelspec": {
   "display_name": "Python 3",
   "language": "python",
   "name": "python3"
  },
  "language_info": {
   "codemirror_mode": {
    "name": "ipython",
    "version": 3
   },
   "file_extension": ".py",
   "mimetype": "text/x-python",
   "name": "python",
   "nbconvert_exporter": "python",
   "pygments_lexer": "ipython3",
   "version": "3.9.1"
  },
  "orig_nbformat": 4
 },
 "nbformat": 4,
 "nbformat_minor": 2
}
